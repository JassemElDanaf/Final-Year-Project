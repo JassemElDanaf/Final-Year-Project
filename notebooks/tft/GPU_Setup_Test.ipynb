{
 "cells": [
  {
   "cell_type": "markdown",
   "id": "b931637b",
   "metadata": {},
   "source": [
    "# GPU Setup Verification\n",
    "\n",
    "This notebook will verify that PyTorch can access your GPU and show its capabilities."
   ]
  },
  {
   "cell_type": "code",
   "execution_count": null,
   "id": "8bf7d9c8",
   "metadata": {},
   "outputs": [],
   "source": [
    "import torch\n",
    "import sys\n",
    "import pandas as pd\n",
    "\n",
    "# Basic Python and CUDA info\n",
    "print(f\"Python version: {sys.version}\")\n",
    "print(f\"PyTorch version: {torch.__version__}\")\n",
    "print(f\"CUDA available: {torch.cuda.is_available()}\")\n",
    "\n",
    "if torch.cuda.is_available():\n",
    "    print(f\"\\nGPU Information:\")\n",
    "    print(f\"Device name: {torch.cuda.get_device_name(0)}\")\n",
    "    print(f\"Device capability: {torch.cuda.get_device_capability()}\")\n",
    "    print(f\"Current device: {torch.cuda.current_device()}\")\n",
    "    print(f\"Device count: {torch.cuda.device_count()}\")\n",
    "    \n",
    "    # Memory info\n",
    "    print(f\"\\nMemory Usage:\")\n",
    "    print(f\"Total memory: {torch.cuda.get_device_properties(0).total_memory / 1e9:.2f} GB\")\n",
    "    print(f\"Memory allocated: {torch.cuda.memory_allocated() / 1e9:.2f} GB\")\n",
    "    print(f\"Memory cached: {torch.cuda.memory_reserved() / 1e9:.2f} GB\")"
   ]
  },
  {
   "cell_type": "code",
   "execution_count": null,
   "id": "7b5ce62e",
   "metadata": {},
   "outputs": [],
   "source": [
    "# Test basic GPU operations\n",
    "def test_gpu_operations():\n",
    "    # Create tensors on GPU\n",
    "    x = torch.randn(1000, 1000).cuda()\n",
    "    y = torch.randn(1000, 1000).cuda()\n",
    "    \n",
    "    # Matrix multiplication\n",
    "    start_time = torch.cuda.Event(enable_timing=True)\n",
    "    end_time = torch.cuda.Event(enable_timing=True)\n",
    "    \n",
    "    start_time.record()\n",
    "    z = torch.matmul(x, y)\n",
    "    end_time.record()\n",
    "    \n",
    "    torch.cuda.synchronize()\n",
    "    elapsed_time = start_time.elapsed_time(end_time)\n",
    "    \n",
    "    print(f\"Matrix multiplication time: {elapsed_time:.2f} ms\")\n",
    "    return z\n",
    "\n",
    "if torch.cuda.is_available():\n",
    "    # Clear cache before test\n",
    "    torch.cuda.empty_cache()\n",
    "    print(\"Running GPU operation test...\")\n",
    "    result = test_gpu_operations()\n",
    "    print(\"GPU test completed successfully!\")\n",
    "else:\n",
    "    print(\"GPU not available!\")"
   ]
  }
 ],
 "metadata": {
  "language_info": {
   "name": "python"
  }
 },
 "nbformat": 4,
 "nbformat_minor": 5
}
